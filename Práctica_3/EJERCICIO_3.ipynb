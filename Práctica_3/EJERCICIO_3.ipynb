{
 "cells": [
  {
   "cell_type": "markdown",
   "id": "9fc78e3e",
   "metadata": {},
   "source": [
    "TAREA: Los ejemplos ilustrativos anteriores permiten saber el número de monedas presentes en la imagen. ¿Cómo saber la cantidad de dinero presente en ella? Sugerimos identificar de forma interactiva (por ejemplo haciendo clic en la imagen) una moneda de un valor determinado en la imagen (por ejemplo de 1€). Tras obtener esa información y las dimensiones en milímetros de las distintas monedas, realiza una propuesta para estimar la cantidad de dinero en la imagen. Muestra la cuenta de monedas y dinero sobre la imagen. No hay restricciones sobre utilizar medidas geométricas o de color.\n",
    "\n",
    "Una vez resuelto el reto con la imagen ideal proporcionada, captura una o varias imágenes con monedas. Aplica el mismo esquema, tras identificar la moneda del valor determinado, calcula el dinero presente en la imagen. ¿Funciona correctamente? ¿Se observan problemas?\n",
    "\n",
    "Nota: Para establecer la correspondencia entre píxeles y milímetros, comentar que la moneda de un euro tiene un diámetro de 23.25 mm. la de 50 céntimos de 24.35, la de 20 céntimos de 22.25, etc.\n",
    "\n",
    "Extras: Considerar que la imagen pueda contener objetos que no son monedas y/o haya solape entre las monedas. Demo en vivo."
   ]
  },
  {
   "cell_type": "code",
   "execution_count": 35,
   "id": "c80cb586",
   "metadata": {},
   "outputs": [
    {
     "name": "stderr",
     "output_type": "stream",
     "text": [
      "Clipping input data to the valid range for imshow with RGB data ([0..1] for floats or [0..255] for integers). Got range [0.0..255.0].\n"
     ]
    },
    {
     "name": "stdout",
     "output_type": "stream",
     "text": [
      "7\n",
      "0.7\n",
      "[1.5857142857142859, 1.4285714285714286, 1.4857142857142858, 1.3714285714285714, 1.2142857142857144, 1.3, 1.1571428571428573, 1.0]\n",
      "[131.61985778808594, 181.11985778808594, 152.4220733642578, 196.4479217529297, 159.89950561523438, 188.35629272460938, 171.74655151367188, 210.53005981445312]\n",
      "2c\n",
      "50c\n",
      "5c\n",
      "1e\n",
      "20c\n",
      "2e\n",
      "10c\n",
      "1c\n"
     ]
    },
    {
     "data": {
      "image/png": "[encoded data removed]",
      "text/plain": [
       "<Figure size 640x480 with 1 Axes>"
      ]
     },
     "metadata": {},
     "output_type": "display_data"
    }
   ],
   "source": [
    "import cv2  \n",
    "import numpy as np\n",
    "import matplotlib.pyplot as plt\n",
    "import csv\n",
    "\n",
    "img = cv2.imread('Monedas.jpg') \n",
    "img_gris = cv2.cvtColor(img, cv2.COLOR_BGR2GRAY)\n",
    "th2,img_th2 = cv2.threshold(img_gris,0,255,cv2.THRESH_BINARY_INV+cv2.THRESH_OTSU)\n",
    "\n",
    "contornos, hierarchy = cv2.findContours(img_th2, cv2.RETR_EXTERNAL, cv2.CHAIN_APPROX_SIMPLE)\n",
    "\n",
    "img_rgb = cv2.cvtColor(img, cv2.COLOR_BGR2RGB)\n",
    "cv2.drawContours(img_rgb, contornos, -1, (0,255,0), 3)\n",
    "img_cont = np.zeros(img_rgb.shape)\n",
    "\n",
    "\n",
    "\n",
    "proporciones = [1.11, 1, 1.04, 0.96, 0.85, 0.91, 0.81, 0.7]\n",
    "tipo_de_moneda = [\"2e\", \"1e\", \"50c\", \"20c\", \"10c\", \"5c\", \"2c\", \"1c\"]\n",
    "\n",
    "def lista_proporcional(tipo):\n",
    "    pos = tipo_de_moneda.index(tipo)\n",
    "    print(pos)\n",
    "    valor = proporciones[pos]\n",
    "    print(valor)\n",
    "    tamaño_proporcional = []\n",
    "    for i in proporciones:\n",
    "        tamaño_proporcional.append(i/valor)\n",
    "    return tamaño_proporcional\n",
    "\n",
    "proporciones = lista_proporcional(\"1c\")\n",
    "print(proporciones)\n",
    "\n",
    "def hallar_valor(diametro_seleccionado, diametro_nuevo, proporciones):\n",
    "    proporcion_calculada = diametro_nuevo/diametro_seleccionado\n",
    "    valor_mas_cercano = 1\n",
    "    pos = 0\n",
    "    contador = -1\n",
    "    for i in proporciones:\n",
    "        if (abs(proporcion_calculada - i) < valor_mas_cercano):\n",
    "            valor_mas_cercano = abs(proporcion_calculada - i)\n",
    "            pos = contador\n",
    "        contador +=1\n",
    "\n",
    "    return tipo_de_moneda[pos]\n",
    "\n",
    "diametros_usar = []\n",
    "donde = 0\n",
    "for cnt in contornos:\n",
    "    area = cv2.contourArea(cnt)\n",
    "    if area > 10000:\n",
    "        #print(donde)\n",
    "        #print(area)\n",
    "        perimetro = cv2.arcLength(cnt,True)\n",
    "\n",
    "        #Contenedor alineado con ejes de la imagen\n",
    "        x,y,w,h = cv2.boundingRect(cnt)\n",
    "        #Mínimo contenedor ajustado para el contorno\n",
    "        rect = cv2.minAreaRect(cnt)\n",
    "        #Mínimo círculo que contiene al contorno\n",
    "        (cx,cy),radio = cv2.minEnclosingCircle(cnt)\n",
    "        diametros_usar.append(radio*2)\n",
    "        #Elipse ajustada al contorno, exgigiendo un mínimo de puntos del contornos\n",
    "        if cnt.shape[0] > 5:\n",
    "            elipse = cv2.fitEllipse(cnt)\n",
    "        cv2.drawContours(img_cont, [cnt], -1, (255,255,255), -1)\n",
    "    donde+=1\n",
    "plt.imshow(img_cont)\n",
    "moneda = min(diametros_usar)\n",
    "print(diametros_usar)\n",
    "for i in diametros_usar:\n",
    "    print(hallar_valor(moneda, i, proporciones))\n",
    "\n",
    "\n",
    "\n",
    "\n",
    "\n",
    "            \n"
   ]
  },
  {
   "cell_type": "markdown",
   "id": "640c0df2",
   "metadata": {},
   "source": [
    "TAREA: La tarea consiste en extraer características (geométricas y/o visuales) de las tres imágenes completas de partida, y aprender patrones que permitan identificar las partículas en nuevas imágenes. Para ello se proporciona como imagen de test MPs_test.jpg y sus correpondientes anotaciones MPs_test_bbs.csv con la que deben obtener las métricas para su propuesta de clasificación de microplásticos, además de la matriz de confusión. La matriz de confusión permitirá mostrar para cada clase el número de muestras que se clasifican correctamente de dicha clase, y el número de muestras que se clasifican incorrectamente como perteneciente a una de las otras dos clases"
   ]
  },
  {
   "cell_type": "code",
   "execution_count": null,
   "id": "82b964d1",
   "metadata": {},
   "outputs": [],
   "source": []
  }
 ],
 "metadata": {
  "kernelspec": {
   "display_name": "VC_P1",
   "language": "python",
   "name": "python3"
  },
  "language_info": {
   "codemirror_mode": {
    "name": "ipython",
    "version": 3
   },
   "file_extension": ".py",
   "mimetype": "text/x-python",
   "name": "python",
   "nbconvert_exporter": "python",
   "pygments_lexer": "ipython3",
   "version": "3.11.5"
  }
 },
 "nbformat": 4,
 "nbformat_minor": 5
}
